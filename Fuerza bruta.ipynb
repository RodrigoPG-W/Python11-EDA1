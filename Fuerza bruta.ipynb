{
 "cells": [
  {
   "cell_type": "code",
   "execution_count": 1,
   "metadata": {},
   "outputs": [],
   "source": [
    "from string import ascii_letters , digits \n",
    "from itertools import product \n",
    "#Concatenar letras y dígitos en una sola cadena \n",
    "caracteres = ascii_letters + digits\n",
    "def buscador (con):\n",
    "    #Archivo con todas las combinaciones generadas\n",
    "    archivo = open (\"combinaciones.txt\",\"w\")\n",
    "    if 3<= len(con) <= 4:\n",
    "        for i in range (3,5):\n",
    "            for comb in product (caracteres, repeat = i):\n",
    "                #Se utiliza join () para concatenar los caracteres regresando por la funcion product().\n",
    "                #Como join necesita una cadena inicial para hacer la concatenación, se pone una cadena vacía.\n",
    "                #al principio\n",
    "                prueba = \"\".join(comb)\n",
    "                #Escribiendo al archivo cada combinacion generada \n",
    "                archivo.write (prueba + \"\\n\" )\n",
    "                if prueba == con:\n",
    "                    print('Tu contraseña es {}'.format(prueba))\n",
    "                    #Cerrando el archivo\n",
    "                    archivo.close()\n",
    "                    break \n",
    "    else:\n",
    "        print('Ingresa una contraseña que contenga de 3 a 4 caracteres')"
   ]
  },
  {
   "cell_type": "code",
   "execution_count": 8,
   "metadata": {},
   "outputs": [
    {
     "name": "stdout",
     "output_type": "stream",
     "text": [
      "Tu contraseña es H0l4\n",
      "Tiempos de ejecución 8.602078\n"
     ]
    }
   ],
   "source": [
    "    from time import time \n",
    "    t0 = time()\n",
    "    con = 'H0l4'\n",
    "    buscador(con)\n",
    "    print(\"Tiempos de ejecución {}\".format(round(time()-t0,6)))"
   ]
  },
  {
   "cell_type": "code",
   "execution_count": null,
   "metadata": {},
   "outputs": [],
   "source": []
  }
 ],
 "metadata": {
  "kernelspec": {
   "display_name": "Python 3",
   "language": "python",
   "name": "python3"
  },
  "language_info": {
   "codemirror_mode": {
    "name": "ipython",
    "version": 3
   },
   "file_extension": ".py",
   "mimetype": "text/x-python",
   "name": "python",
   "nbconvert_exporter": "python",
   "pygments_lexer": "ipython3",
   "version": "3.7.7"
  }
 },
 "nbformat": 4,
 "nbformat_minor": 4
}
