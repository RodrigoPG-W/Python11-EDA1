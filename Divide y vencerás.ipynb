{
 "cells": [
  {
   "cell_type": "code",
   "execution_count": 1,
   "metadata": {},
   "outputs": [],
   "source": [
    "def quicksort(lista):\n",
    "    quicksort_aux(lista,0,len(lista)-1)\n",
    "\n",
    "def quicksort_aux(lista,inicio, fin):\n",
    "    if inicio < fin:\n",
    "\n",
    "        pivote = particion(lista,inicio,fin)\n",
    "\n",
    "        quicksort_aux(lista, inicio, pivote-1)\n",
    "        quicksort_aux(lista, pivote+1, fin)"
   ]
  },
  {
   "cell_type": "code",
   "execution_count": 2,
   "metadata": {},
   "outputs": [],
   "source": [
    "def particion(lista, inicio, fin):\n",
    "    #Se asigna como pivote en número de la primera localidad\n",
    "    pivote = lista[inicio]\n",
    "    print(\"Valor del pivote {}\".format(pivote))\n",
    "    #Se crean dos marcadores \n",
    "    izquierda = inicio+1\n",
    "    derecha = fin\n",
    "    print(\"Índice izquierdo {}\".format(izquierda))\n",
    "    print(\"Índice derecho {}\".format(derecha))\n",
    "\n",
    "    \n",
    "    bandera = False\n",
    "    while not bandera:\n",
    "        while izquierda <= derecha and lista[izquierda] <= pivote:\n",
    "            izquierda = izquierda + 1\n",
    "        while lista[derecha] >= pivote and derecha >=izquierda:\n",
    "            derecha = derecha -1\n",
    "        if derecha < izquierda:\n",
    "            bandera= True\n",
    "        else:\n",
    "            temp=lista[izquierda]\n",
    "            lista[izquierda]=lista[derecha]\n",
    "            lista[derecha]=temp\n",
    "            \n",
    "    print(lista)\n",
    "\n",
    "\n",
    "    temp=lista[inicio]\n",
    "    lista[inicio]=lista[derecha]\n",
    "    lista[derecha]=temp\n",
    "    return derecha"
   ]
  },
  {
   "cell_type": "code",
   "execution_count": 3,
   "metadata": {},
   "outputs": [
    {
     "name": "stdout",
     "output_type": "stream",
     "text": [
      "lista desordenada [21, 10, 0, 11, 9, 24, 20, 14, 1]\n",
      "Valor del pivote 21\n",
      "Índice izquierdo 1\n",
      "Índice derecho 8\n",
      "[21, 10, 0, 11, 9, 1, 20, 14, 24]\n",
      "Valor del pivote 14\n",
      "Índice izquierdo 1\n",
      "Índice derecho 6\n",
      "[14, 10, 0, 11, 9, 1, 20, 21, 24]\n",
      "Valor del pivote 1\n",
      "Índice izquierdo 1\n",
      "Índice derecho 4\n",
      "[1, 0, 10, 11, 9, 14, 20, 21, 24]\n",
      "Valor del pivote 10\n",
      "Índice izquierdo 3\n",
      "Índice derecho 4\n",
      "[0, 1, 10, 9, 11, 14, 20, 21, 24]\n",
      "lista ordenada [0, 1, 9, 10, 11, 14, 20, 21, 24]\n"
     ]
    }
   ],
   "source": [
    "lista = [21, 10, 0, 11, 9, 24, 20, 14, 1]\n",
    "print(\"lista desordenada {}\".format(lista))\n",
    "quicksort(lista)\n",
    "print(\"lista ordenada {}\".format(lista))"
   ]
  },
  {
   "cell_type": "code",
   "execution_count": null,
   "metadata": {},
   "outputs": [],
   "source": []
  }
 ],
 "metadata": {
  "kernelspec": {
   "display_name": "Python 3",
   "language": "python",
   "name": "python3"
  },
  "language_info": {
   "codemirror_mode": {
    "name": "ipython",
    "version": 3
   },
   "file_extension": ".py",
   "mimetype": "text/x-python",
   "name": "python",
   "nbconvert_exporter": "python",
   "pygments_lexer": "ipython3",
   "version": "3.7.7"
  }
 },
 "nbformat": 4,
 "nbformat_minor": 4
}
