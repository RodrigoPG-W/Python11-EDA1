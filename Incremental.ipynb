{
 "cells": [
  {
   "cell_type": "code",
   "execution_count": 1,
   "metadata": {},
   "outputs": [],
   "source": [
    "def insertionSort (n_lista):\n",
    "    for index in range (1,len(n_lista)):\n",
    "        actual = n_lista[index]\n",
    "        posicion = index \n",
    "        print(\"Valor a ordenar = {}\".format(actual))\n",
    "        while posicion>0 and n_lista[posicion-1]>actual:\n",
    "            n_lista[posicion]=n_lista[posicion-1]\n",
    "            posicion=posicion-1\n",
    "        n_lista[posicion]=actual \n",
    "        print(n_lista)\n",
    "        print()\n",
    "    return n_lista"
   ]
  },
  {
   "cell_type": "code",
   "execution_count": 2,
   "metadata": {},
   "outputs": [
    {
     "name": "stdout",
     "output_type": "stream",
     "text": [
      "Lista desordenada [21, 10, 0, 11, 9, 24, 20, 14, 1]\n",
      "Valor a ordenar = 10\n",
      "[10, 21, 0, 11, 9, 24, 20, 14, 1]\n",
      "\n",
      "Valor a ordenar = 0\n",
      "[0, 10, 21, 11, 9, 24, 20, 14, 1]\n",
      "\n",
      "Valor a ordenar = 11\n",
      "[0, 10, 11, 21, 9, 24, 20, 14, 1]\n",
      "\n",
      "Valor a ordenar = 9\n",
      "[0, 9, 10, 11, 21, 24, 20, 14, 1]\n",
      "\n",
      "Valor a ordenar = 24\n",
      "[0, 9, 10, 11, 21, 24, 20, 14, 1]\n",
      "\n",
      "Valor a ordenar = 20\n",
      "[0, 9, 10, 11, 20, 21, 24, 14, 1]\n",
      "\n",
      "Valor a ordenar = 14\n",
      "[0, 9, 10, 11, 14, 20, 21, 24, 1]\n",
      "\n",
      "Valor a ordenar = 1\n",
      "[0, 1, 9, 10, 11, 14, 20, 21, 24]\n",
      "\n",
      "Lista ordenada [0, 1, 9, 10, 11, 14, 20, 21, 24]\n"
     ]
    }
   ],
   "source": [
    "#Datos de entrada \n",
    "lista = [21,10,0,11,9,24,20,14,1]\n",
    "print(\"Lista desordenada {}\".format(lista))\n",
    "insertionSort(lista)\n",
    "print(\"Lista ordenada {}\".format(lista))"
   ]
  },
  {
   "cell_type": "code",
   "execution_count": null,
   "metadata": {},
   "outputs": [],
   "source": []
  }
 ],
 "metadata": {
  "kernelspec": {
   "display_name": "Python 3",
   "language": "python",
   "name": "python3"
  },
  "language_info": {
   "codemirror_mode": {
    "name": "ipython",
    "version": 3
   },
   "file_extension": ".py",
   "mimetype": "text/x-python",
   "name": "python",
   "nbconvert_exporter": "python",
   "pygments_lexer": "ipython3",
   "version": "3.7.7"
  }
 },
 "nbformat": 4,
 "nbformat_minor": 4
}
