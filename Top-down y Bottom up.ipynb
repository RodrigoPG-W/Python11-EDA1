{
 "cells": [
  {
   "cell_type": "code",
   "execution_count": 4,
   "metadata": {},
   "outputs": [
    {
     "data": {
      "text/plain": [
       "5"
      ]
     },
     "execution_count": 4,
     "metadata": {},
     "output_type": "execute_result"
    }
   ],
   "source": [
    "def fibonacci_iterativo_v1(numero):\n",
    "    f1=0\n",
    "    f2=1\n",
    "    tmp=0\n",
    "    for i in range(1,numero-1):\n",
    "        tmp = f1+f2\n",
    "        f1=f2\n",
    "        f2=tmp\n",
    "    return f2\n",
    "\n",
    "fibonacci_iterativo_v1(6)"
   ]
  },
  {
   "cell_type": "code",
   "execution_count": 5,
   "metadata": {},
   "outputs": [
    {
     "data": {
      "text/plain": [
       "5"
      ]
     },
     "execution_count": 5,
     "metadata": {},
     "output_type": "execute_result"
    }
   ],
   "source": [
    "#En Python se puede hacer una asignación paralela, esto va a servir para evitar tener la variable auxiliar tmp:\n",
    "def fibonacci_iterativo_v2(numero):\n",
    "    f1=0\n",
    "    f2=1\n",
    "    for i in range(1, numero-1):\n",
    "        f1,f2=f2,f1+f2    #Asignación paralela\n",
    "    return f2\n",
    "\n",
    "fibonacci_iterativo_v2(6)"
   ]
  },
  {
   "cell_type": "code",
   "execution_count": 6,
   "metadata": {},
   "outputs": [
    {
     "name": "stdout",
     "output_type": "stream",
     "text": [
      "[0, 1, 1, 2]\n",
      "[0, 1, 1, 2, 3]\n"
     ]
    },
    {
     "data": {
      "text/plain": [
       "3"
      ]
     },
     "execution_count": 6,
     "metadata": {},
     "output_type": "execute_result"
    }
   ],
   "source": [
    "#Una vez que conocemos como calcular la sucesión de Fibonacci, se aplica bottom-up\n",
    "def fibonacci_bottom_up(numero):\n",
    "    f_parciales = [0, 1, 1]  #Esta es la lista que mantiene las soluciones previamente calculadas\n",
    "    while len(f_parciales) < numero:\n",
    "        f_parciales.append(f_parciales[-1] + f_parciales[-2])\n",
    "        print(f_parciales)\n",
    "    return f_parciales[numero-1]\n",
    "\n",
    "fibonacci_bottom_up(5)"
   ]
  },
  {
   "cell_type": "code",
   "execution_count": 7,
   "metadata": {},
   "outputs": [
    {
     "data": {
      "text/plain": [
       "89"
      ]
     },
     "execution_count": 7,
     "metadata": {},
     "output_type": "execute_result"
    }
   ],
   "source": [
    "#Para aplicar top-down, se utiliza un diccionario (memoria) el cual va a almacenar valores previamente calculados. \n",
    "#Una vez que se realice el cálculo de algún elemento de la sucesión de Fibonacci, éste se va a almacenar ahí.\n",
    "#Memoria inicial\n",
    "memoria = {1:0, 2:1, 3:1}\n",
    "def fibonacci_top_down(numero):\n",
    "    if numero in memoria:      #Si el número ya se encuentra calculado, se regresa el valor ya ya no se hacen más cálculos\n",
    "        return memoria[numero]\n",
    "    f = fibonacci_iterativo_v2(numero-1) + fibonacci_iterativo_v2(numero-2)\n",
    "    memoria[numero] = f\n",
    "    return memoria[numero]\n",
    "\n",
    "fibonacci_top_down(12)"
   ]
  },
  {
   "cell_type": "code",
   "execution_count": 8,
   "metadata": {},
   "outputs": [
    {
     "data": {
      "text/plain": [
       "{1: 0, 2: 1, 3: 1, 12: 89}"
      ]
     },
     "execution_count": 8,
     "metadata": {},
     "output_type": "execute_result"
    }
   ],
   "source": [
    "#Memoria después de obtener el elemento 12 de la sucesión de Fibonacci\n",
    "memoria"
   ]
  },
  {
   "cell_type": "code",
   "execution_count": 9,
   "metadata": {},
   "outputs": [
    {
     "data": {
      "text/plain": [
       "13"
      ]
     },
     "execution_count": 9,
     "metadata": {},
     "output_type": "execute_result"
    }
   ],
   "source": [
    "#Memoria después de obtener el elemento 8 de la sucesión de Fibonacci\n",
    "fibonacci_top_down(8)"
   ]
  },
  {
   "cell_type": "code",
   "execution_count": 10,
   "metadata": {},
   "outputs": [
    {
     "data": {
      "text/plain": [
       "{1: 0, 2: 1, 3: 1, 12: 89, 8: 13}"
      ]
     },
     "execution_count": 10,
     "metadata": {},
     "output_type": "execute_result"
    }
   ],
   "source": [
    "memoria"
   ]
  },
  {
   "cell_type": "code",
   "execution_count": 11,
   "metadata": {},
   "outputs": [],
   "source": [
    "#Se requiere que los valores ya calculados sean guardados en un archivo, pudiéndose utilizar después.\n",
    "#Para esto se va a hacer uso de la biblioteca pickle\n",
    "import pickle\n",
    "\n",
    "#Guardar variable\n",
    "#No hay restricción en lo que se pone como extensión del archivo, \n",
    "#generalmente se usa .p o .pickle como estandar.\n",
    "archivo = open('memoria.p', 'wb')   #Se abre el archivo para escribir en modo binario\n",
    "pickle.dump(memoria, archivo)       #Se guarda la variable memoria que es un diccionario\n",
    "archivo.close()                     #Se cierra el archivo"
   ]
  },
  {
   "cell_type": "code",
   "execution_count": 12,
   "metadata": {},
   "outputs": [],
   "source": [
    "#Leer variable\n",
    "archivo = open('memoria.p', 'rb')          #Se abre el archivo para leer en modo binario\n",
    "memoria_de_archivo = pickle.load(archivo)  #Se lee la variable\n",
    "archivo.close()                            #Se cierra el archivo"
   ]
  },
  {
   "cell_type": "code",
   "execution_count": 13,
   "metadata": {},
   "outputs": [
    {
     "data": {
      "text/plain": [
       "{1: 0, 2: 1, 3: 1, 12: 89, 8: 13}"
      ]
     },
     "execution_count": 13,
     "metadata": {},
     "output_type": "execute_result"
    }
   ],
   "source": [
    "#Si no se realizó un cambio en memoria, ésta variable y memoria_de_archivo deben contener los mismos datos.\n",
    "memoria"
   ]
  },
  {
   "cell_type": "code",
   "execution_count": 14,
   "metadata": {},
   "outputs": [
    {
     "data": {
      "text/plain": [
       "{1: 0, 2: 1, 3: 1, 12: 89, 8: 13}"
      ]
     },
     "execution_count": 14,
     "metadata": {},
     "output_type": "execute_result"
    }
   ],
   "source": [
    "memoria_de_archivo"
   ]
  },
  {
   "cell_type": "code",
   "execution_count": null,
   "metadata": {},
   "outputs": [],
   "source": []
  }
 ],
 "metadata": {
  "kernelspec": {
   "display_name": "Python 3",
   "language": "python",
   "name": "python3"
  },
  "language_info": {
   "codemirror_mode": {
    "name": "ipython",
    "version": 3
   },
   "file_extension": ".py",
   "mimetype": "text/x-python",
   "name": "python",
   "nbconvert_exporter": "python",
   "pygments_lexer": "ipython3",
   "version": "3.7.7"
  }
 },
 "nbformat": 4,
 "nbformat_minor": 4
}
